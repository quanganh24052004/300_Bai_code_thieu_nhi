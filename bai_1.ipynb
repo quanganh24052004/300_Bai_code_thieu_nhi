{
 "cells": [
  {
   "cell_type": "markdown",
   "id": "3bf53491",
   "metadata": {},
   "source": [
    "# Viết chương trình để kiểm tra số nguyên dương hay âm"
   ]
  },
  {
   "cell_type": "markdown",
   "id": "5220e993",
   "metadata": {},
   "source": [
    "## Giải thích đề bài"
   ]
  },
  {
   "cell_type": "markdown",
   "id": "b2659d57",
   "metadata": {},
   "source": [
    "Bài tập yêu cầu bạn viết một chương trình để kiểm tra một số nguyên mà người dùng nhập vào là số dương hay số âm"
   ]
  },
  {
   "cell_type": "markdown",
   "id": "878c79c7",
   "metadata": {},
   "source": [
    "## Thuật toán giải quyết"
   ]
  },
  {
   "cell_type": "markdown",
   "id": "900ec964",
   "metadata": {},
   "source": [
    "### Đầu vào:"
   ]
  },
  {
   "cell_type": "markdown",
   "id": "c1d7a7e2",
   "metadata": {},
   "source": [
    "- Một số nguyên mà người dùng nhập vào"
   ]
  },
  {
   "cell_type": "markdown",
   "id": "d3aa0d67",
   "metadata": {},
   "source": [
    "### Đầu ra:"
   ]
  },
  {
   "cell_type": "markdown",
   "id": "debafa1f",
   "metadata": {},
   "source": [
    "- Thông báo cho người dùng biết số đó là số dương hay âm"
   ]
  },
  {
   "cell_type": "markdown",
   "id": "dbe23a9b",
   "metadata": {},
   "source": [
    "## Các bước thực hiện:"
   ]
  },
  {
   "cell_type": "markdown",
   "id": "31723037",
   "metadata": {},
   "source": [
    "1. Nhập một số nguyên từ người dùng.\n",
    "2. Kiểm tra số đó có lớn hơn 0 không:\n",
    "    + Nếu lớn hơn 0, thì số đó là số dương.\n",
    "    + Nếu nhỏ hơn 0, thì số đó là số âm.\n",
    "    + Nếu bằng 0, chúng ta có thể xem như là một trường hợp đặc biệt và thông báo rằng số đó không phải là số dương cũng không phải là số âm."
   ]
  },
  {
   "cell_type": "markdown",
   "id": "b1949456",
   "metadata": {},
   "source": [
    "## Code"
   ]
  },
  {
   "cell_type": "code",
   "execution_count": 9,
   "id": "28f6ce88",
   "metadata": {},
   "outputs": [],
   "source": [
    "# Chương trình kiểm tra số nguyên dương hay âm\n",
    "\n",
    "# Hàm check_number\n",
    "\n",
    "def check_number(n):\n",
    "    if n > 0:\n",
    "        return \"Số bạn nhập là số dương.\"\n",
    "    elif n < 0: \n",
    "        return \"Số bạn nhập là số âm.\"\n",
    "    else :\n",
    "        return \"Số bạn nhập là số không (không phải dương cũng không phải âm).\""
   ]
  },
  {
   "cell_type": "code",
   "execution_count": 13,
   "id": "00cad47d",
   "metadata": {},
   "outputs": [
    {
     "name": "stdout",
     "output_type": "stream",
     "text": [
      "Số bạn nhập là số âm.\n"
     ]
    }
   ],
   "source": [
    "# Nhập số nguyên từ người dùng\n",
    "\n",
    "try:\n",
    "    number = int(input(\"Nhập một số nguyên: \"))\n",
    "    result = check_number(number)\n",
    "    print(result)\n",
    "except ValueError:\n",
    "    print(\"Vui lòng nhập một số nguyên hợp lệ\")"
   ]
  },
  {
   "cell_type": "code",
   "execution_count": null,
   "id": "96492f6f",
   "metadata": {},
   "outputs": [
    {
     "name": "stdout",
     "output_type": "stream",
     "text": [
      "Số bạn nhập là số dương.\n",
      "Số bạn nhập là số âm.\n",
      "Số bạn nhập là số không (không phải dương cũng không phải âm).\n",
      "Số bạn nhập là số dương.\n"
     ]
    }
   ],
   "source": [
    "# Số nguyên sẵn có\n",
    "\n",
    "number_1 = 3\n",
    "number_2 = -3\n",
    "number_3 = 0\n",
    "number_4 = 4.3\n",
    "\n",
    "print(check_number(number_1))\n",
    "print(check_number(number_2))\n",
    "print(check_number(number_3))\n",
    "print(check_number(number_4))"
   ]
  },
  {
   "cell_type": "markdown",
   "id": "12f49818",
   "metadata": {},
   "source": [
    "## Giải thích code\n",
    "\n",
    "1. Định nghĩa hàm check_number(n):\n",
    "    - Hàm này nhận một tham số n là số nguyên và kiểm tra giá trị\n",
    "của n.\n",
    "    - Sử dụng cấu trúc điều kiện if-elif-else để xác định xem n\n",
    "là số dương, số âm hay bằng 0 và trả về thông báo tương\n",
    "ứng.\n",
    "2. Nhập số nguyên từ người dùng:\n",
    "    - Sử dụng hàm input() để nhận dữ liệu từ người dùng.\n",
    "    - Chuyển đổi dữ liệu từ chuỗi sang số nguyên bằng hàm\n",
    "int().\n",
    "    - Sử dụng try-except để bắt lỗi nếu người dùng nhập vào\n",
    "không phải là số nguyên hợp lệ, từ đó in ra thông báo lỗi.\n",
    "3. Hiển thị kết quả:\n",
    "    - Gọi hàm check_number() với tham số là số nguyên mà người\n",
    "dùng đã nhập. \n",
    "    - In kết quả mà hàm trả về."
   ]
  },
  {
   "cell_type": "markdown",
   "id": "0f403405",
   "metadata": {},
   "source": [
    "## Tóm tắt\n",
    "1. **Hàm** `input()`: Dùng để nhận dữ liệu nhập từ người dùng dưới\n",
    "dạng chuỗi.\n",
    "2. **Hàm** `int()`: Dùng để chuyển đổi chuỗi sang số nguyên.\n",
    "3. **Cấu trúc điều kiện** `if-elif-else`: Dùng để kiểm tra các điều\n",
    "kiện và thực thi các đoạn mã khác nhau dựa trên kết quả của\n",
    "các điều kiện đó.\n",
    "4. **Hàm và định nghĩa hàm**: Dùng để đóng gói các đoạn mã có thể\n",
    "tái sử dụng và giúp chương trình dễ đọc hơn.\n",
    "5. `try-except`: Dùng để xử lý ngoại lệ, giúp chương trình có thể xử\n",
    "lý các lỗi có thể xảy ra khi chuyển đổi dữ liệu hoặc các lỗi khác.\n",
    "\n",
    "Chương trình trên đơn giản nhưng minh họa được cách sử dụng\n",
    "các cấu trúc điều kiện, hàm và xử lý ngoại lệ trong Python để giải\n",
    "quyết một bài toán cụ thể."
   ]
  },
  {
   "cell_type": "markdown",
   "id": "ce1f89da",
   "metadata": {},
   "source": []
  }
 ],
 "metadata": {
  "kernelspec": {
   "display_name": ".venv",
   "language": "python",
   "name": "python3"
  },
  "language_info": {
   "codemirror_mode": {
    "name": "ipython",
    "version": 3
   },
   "file_extension": ".py",
   "mimetype": "text/x-python",
   "name": "python",
   "nbconvert_exporter": "python",
   "pygments_lexer": "ipython3",
   "version": "3.13.3"
  }
 },
 "nbformat": 4,
 "nbformat_minor": 5
}
